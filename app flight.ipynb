{
 "cells": [
  {
   "cell_type": "code",
   "execution_count": 5,
   "metadata": {},
   "outputs": [],
   "source": [
    "from flask import Flask,request,render_template\n",
    "import sklearn\n",
    "import pandas as pd\n",
    "import pickle"
   ]
  },
  {
   "cell_type": "code",
   "execution_count": 33,
   "metadata": {},
   "outputs": [],
   "source": [
    "f6 = open('flight3.pkl', 'rb')\n",
    "app=Flask(__name__)\n",
    "model=pickle.load(f6)"
   ]
  },
  {
   "cell_type": "code",
   "execution_count": 34,
   "metadata": {},
   "outputs": [
    {
     "data": {
      "text/plain": [
       "RandomForestRegressor(bootstrap=True, criterion='mse', max_depth=None,\n",
       "                      max_features='auto', max_leaf_nodes=None,\n",
       "                      min_impurity_decrease=0.0, min_impurity_split=None,\n",
       "                      min_samples_leaf=1, min_samples_split=2,\n",
       "                      min_weight_fraction_leaf=0.0, n_estimators=10,\n",
       "                      n_jobs=None, oob_score=False, random_state=42, verbose=0,\n",
       "                      warm_start=False)"
      ]
     },
     "execution_count": 34,
     "metadata": {},
     "output_type": "execute_result"
    }
   ],
   "source": [
    "model"
   ]
  },
  {
   "cell_type": "code",
   "execution_count": 38,
   "metadata": {},
   "outputs": [],
   "source": [
    "import numpy as np\n",
    "ddt=np.array([[6,2,1,2,4,3,1,10,55,17,30,4,25]])"
   ]
  },
  {
   "cell_type": "code",
   "execution_count": 39,
   "metadata": {},
   "outputs": [
    {
     "data": {
      "text/plain": [
       "array([11065.3])"
      ]
     },
     "execution_count": 39,
     "metadata": {},
     "output_type": "execute_result"
    }
   ],
   "source": [
    "model.predict(ddt)"
   ]
  },
  {
   "cell_type": "code",
   "execution_count": null,
   "metadata": {},
   "outputs": [],
   "source": [
    "model.DataFrame([])"
   ]
  },
  {
   "cell_type": "code",
   "execution_count": 37,
   "metadata": {},
   "outputs": [
    {
     "name": "stdout",
     "output_type": "stream",
     "text": [
      " * Serving Flask app \"__main__\" (lazy loading)\n",
      " * Environment: production\n",
      "   WARNING: This is a development server. Do not use it in a production deployment.\n",
      "   Use a production WSGI server instead.\n",
      " * Debug mode: on\n"
     ]
    },
    {
     "name": "stderr",
     "output_type": "stream",
     "text": [
      " * Restarting with stat\n"
     ]
    },
    {
     "ename": "SystemExit",
     "evalue": "1",
     "output_type": "error",
     "traceback": [
      "An exception has occurred, use %tb to see the full traceback.\n",
      "\u001b[1;31mSystemExit\u001b[0m\u001b[1;31m:\u001b[0m 1\n"
     ]
    },
    {
     "name": "stderr",
     "output_type": "stream",
     "text": [
      "E:\\jupyter\\lib\\site-packages\\IPython\\core\\interactiveshell.py:3333: UserWarning: To exit: use 'exit', 'quit', or Ctrl-D.\n",
      "  warn(\"To exit: use 'exit', 'quit', or Ctrl-D.\", stacklevel=1)\n"
     ]
    }
   ],
   "source": [
    "@app.route(\"/\")\n",
    "def home():\n",
    "    return render_template(\"in.html\")\n",
    "\n",
    "\n",
    "\n",
    "\n",
    "@app.route(\"/predict\", methods = [\"GET\", \"POST\"])\n",
    "def predict():\n",
    "    if request.method == \"POST\":\n",
    "\n",
    "        # Date_of_Journey\n",
    "        date_dep = request.form[\"Dep_Time\"]\n",
    "        day = int(pd.to_datetime(date_dep, format=\"%Y-%m-%dT%H:%M\").day)\n",
    "        month = int(pd.to_datetime(date_dep, format =\"%Y-%m-%dT%H:%M\").month)\n",
    "        # print(\"Journey Date : \",Journey_day, Journey_month)\n",
    "\n",
    "        # Departure\n",
    "        Dep_ti_h = int(pd.to_datetime(date_dep, format =\"%Y-%m-%dT%H:%M\").hour)\n",
    "        Dep_ti_m = int(pd.to_datetime(date_dep, format =\"%Y-%m-%dT%H:%M\").minute)\n",
    "        # print(\"Departure : \",Dep_hour, Dep_min)\n",
    "\n",
    "        # Arrival\n",
    "        date_arr = request.form[\"Arrival_Time\"]\n",
    "        arr_ti_h = int(pd.to_datetime(date_arr, format =\"%Y-%m-%dT%H:%M\").hour)\n",
    "        arr_ti_m = int(pd.to_datetime(date_arr, format =\"%Y-%m-%dT%H:%M\").minute)\n",
    "        # print(\"Arrival : \", Arrival_hour, Arrival_min)\n",
    "\n",
    "        # Duration\n",
    "        Duration_hours = abs(Arrival_hour - Dep_hour)\n",
    "        Duration_mins = abs(Arrival_min - Dep_min)\n",
    "        # print(\"Duration : \", dur_hour, dur_min)\n",
    "\n",
    "        # Total Stops\n",
    "        Total_stops = int(request.form[\"stops\"])\n",
    "        # print(Total_stops)\n",
    "\n",
    "        Airline=request.form['Airline']\n",
    "        Source=reuest.form['Source']\n",
    "        Destination=request.form['Destination']\n",
    "        Additional_Info=request.form['Additional_Info']\n",
    "        check=1\n",
    "        \n",
    "        df_tes=([ Total_stops,\n",
    "            Dep_ti_h,\n",
    "            Dep_ti_m,\n",
    "            arr_ti_h,\n",
    "            arr_ti_m,\n",
    "            Duration_hours,\n",
    "            Duration_mins,\n",
    "            check])\n",
    "        \n",
    "        \n",
    "        df_te=([\n",
    "            day,\n",
    "            month,\n",
    "            Airline,\n",
    "            Source,\n",
    "            Destination,\n",
    "            Additional_Info])\n",
    "        \n",
    "        \n",
    "        dfff=np.array([\n",
    "            Total_stops,\n",
    "            day,\n",
    "            month,\n",
    "            Dep_ti_h,\n",
    "            Dep_ti_m,\n",
    "            arr_ti_h,\n",
    "            arr_ti_m,\n",
    "            Duration_hours,\n",
    "            Duration_mins,\n",
    "            Airline,\n",
    "            Source,\n",
    "            Destination,\n",
    "            Additional_Info\n",
    "        ])\n",
    "        \n",
    "        prediction=model.predict([dfff])\n",
    "\n",
    "        output=round(prediction[0],2)\n",
    "\n",
    "        return render_template('in.html',prediction_text=\"Your Flight price is Rs. {}\".format(output))\n",
    "\n",
    "\n",
    "    return render_template(\"in.html\")\n",
    "\n",
    "\n",
    "\n",
    "\n",
    "if __name__ == \"__main__\":\n",
    "    app.run(debug=True)"
   ]
  },
  {
   "cell_type": "code",
   "execution_count": null,
   "metadata": {},
   "outputs": [],
   "source": [
    "body {\n",
    "    background-color: #e1f4f3;\n",
    "    text-align: center;\n",
    "}\n",
    "\n",
    ".navbar {\n",
    "    background-color: #333333;\n",
    "}\n",
    "\n",
    "a {\n",
    "    color: #f1f9f9;\n",
    "}\n",
    "\n",
    "a:hover {\n",
    "    color: #f0f0f0;\n",
    "  }\n"
   ]
  }
 ],
 "metadata": {
  "kernelspec": {
   "display_name": "Python 3",
   "language": "python",
   "name": "python3"
  },
  "language_info": {
   "codemirror_mode": {
    "name": "ipython",
    "version": 3
   },
   "file_extension": ".py",
   "mimetype": "text/x-python",
   "name": "python",
   "nbconvert_exporter": "python",
   "pygments_lexer": "ipython3",
   "version": "3.8.8"
  }
 },
 "nbformat": 4,
 "nbformat_minor": 2
}
